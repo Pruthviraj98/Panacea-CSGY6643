{
 "cells": [
  {
   "cell_type": "markdown",
   "metadata": {},
   "source": [
    "# Assignment Notebook\n"
   ]
  },
  {
   "cell_type": "markdown",
   "metadata": {},
   "source": [
    "#### Please attach the code to your report and address the following:\n",
    "    * Show the output for a 5x5 filter at image index of your choice, for cross-correlation and convolution.\n",
    "    * Explain the outputs with respect to the formulation/equation of 2D cross-correlation and convolution.\n",
    "    * Include a drawing/sketch of your indexing example for cross-correlation and convolution. For example, you could sketch the grid of the image and filter and use numbers or colors to indicate indexing."
   ]
  },
  {
   "cell_type": "code",
   "execution_count": 28,
   "metadata": {},
   "outputs": [],
   "source": [
    "import numpy as np\n",
    "import cv2\n",
    "import matplotlib.pyplot as plt\n",
    "import math\n",
    "from skimage import io\n",
    "from skimage.color import rgb2gray"
   ]
  },
  {
   "cell_type": "code",
   "execution_count": 29,
   "metadata": {},
   "outputs": [],
   "source": [
    "def createGaussianFilter(n, stdev):\n",
    "    #status: complete\n",
    "    \n",
    "    #task: creates a square gaussian filter\n",
    "    #parameters: \n",
    "    #n= rows and column count\n",
    "    #stdev= standard deviation\n",
    "    \n",
    "    variance=stdev*stdev #variance\n",
    "    gaussian_filter=np.zeros((n, n))\n",
    "    x=np.linspace(-n/2.0, n/2.0, n)\n",
    "    y=np.linspace(-n/2.0, n/2.0, n)\n",
    "    \n",
    "    for i in range(0, n):\n",
    "        for j in range(0, n):\n",
    "            gaussian_filter[i, j]=(1/math.sqrt((2*math.pi*variance)))*math.exp(-(x[i]*x[i]+y[j]*y[j])/(2*variance))\n",
    "    return gaussian_filter/np.sum(gaussian_filter.flatten())"
   ]
  },
  {
   "cell_type": "code",
   "execution_count": 30,
   "metadata": {},
   "outputs": [],
   "source": [
    "# def importImage(path):\n",
    "#     #status:complete\n",
    "#     #task: imports image, converts it into grayscale and returns image, #rows, #cols\n",
    "    \n",
    "#     im = io.imread(path)\n",
    "#     im = cv2.resize(im, (500, 500))     \n",
    "#     im = rgb2gray(im)\n",
    "#     plt.imshow(im, cmap='gray')\n",
    "#     plt.title(\"Imported Image\")\n",
    "    \n",
    "#     im = ((im - np.min(im)) * (1/(np.max(im) - np.min(im)) *1.0)).astype('float')\n",
    "#     return im, im.shape[0], im.shape[1]"
   ]
  },
  {
   "cell_type": "code",
   "execution_count": 70,
   "metadata": {},
   "outputs": [],
   "source": [
    "def correlation_pairs(idx, fltr, n):\n",
    "    #status: complete\n",
    "    # task: to compute the indexes of image and kernel used in Correlation operation\n",
    "    out_list=[]\n",
    "    col=idx[1]-2\n",
    "    row=idx[0]-2    \n",
    "\n",
    "    filter_col=0\n",
    "    for i in range(col, col+5):\n",
    "        filter_row=0\n",
    "        for j in range(row, row+5):\n",
    "            pairs=((\"img\", j, i),(\"kernel\", filter_row, filter_col))\n",
    "            out_list.append(pairs)\n",
    "            filter_row+=1\n",
    "        filter_col+=1\n",
    "        \n",
    "    return out_list"
   ]
  },
  {
   "cell_type": "code",
   "execution_count": 71,
   "metadata": {},
   "outputs": [],
   "source": [
    "def convolution_pairs(idx, fltr, n):\n",
    "    #status: complete\n",
    "    # task: to compute the indexes of image and kernel used in Convolution operation\n",
    "\n",
    "    out_list=[]\n",
    "    col=idx[1]-2\n",
    "    row=idx[0]-2\n",
    "    \n",
    "    filter_col=n-1\n",
    "    for i in range(col, col+5):\n",
    "        filter_row=n-1\n",
    "        for j in range(row, row+5):\n",
    "            pairs=((\"img\", j, i),(\"kernel\", filter_row, filter_col))\n",
    "            out_list.append(pairs)\n",
    "            filter_row-=1\n",
    "        filter_col-=1\n",
    "    \n",
    "    return out_list"
   ]
  },
  {
   "cell_type": "code",
   "execution_count": 72,
   "metadata": {},
   "outputs": [],
   "source": [
    "def findOperationIndexPairs(idx, n, opType):\n",
    "    #status: complete\n",
    "    \n",
    "    #task:\n",
    "    #Parameters: \n",
    "    #1. idx: tuple representing  x, y index into an image\n",
    "    #2. n: integer representing n*n sq filter/kernel\n",
    "    #3. opType: True-Cross Correlation. False: Convolution\n",
    "    #return - indexPairs: a list of pairs of tuples, where each pair represents the index into the image (first) and the index into the filter/kernel\n",
    "    #output format: [((x_img_0, y_img_0)(x_kernel_0, y_kernel_0)), … , ((x_img_i, y_img_i)(x_kernel_i, y_kernel_i))]\n",
    "\n",
    "    \n",
    "    #filter_considered: Gaussian\n",
    "    #n = considered= 5: standard deviation= 20:  \n",
    "    fltr=createGaussianFilter(5, 20)\n",
    "    \n",
    "    if(opType==True):\n",
    "        indexPairs=correlation_pairs(idx, fltr, n)\n",
    "    else:\n",
    "        indexPairs=convolution_pairs(idx, fltr, n)\n",
    "    \n",
    "    return indexPairs"
   ]
  },
  {
   "cell_type": "code",
   "execution_count": 74,
   "metadata": {
    "scrolled": false
   },
   "outputs": [
    {
     "name": "stdout",
     "output_type": "stream",
     "text": [
      "\n",
      "Indices pairs of convolution operation: \n",
      "\n",
      " [(('img', 3, 3), ('kernel', 4, 4)), (('img', 4, 3), ('kernel', 3, 4)), (('img', 5, 3), ('kernel', 2, 4)), (('img', 6, 3), ('kernel', 1, 4)), (('img', 7, 3), ('kernel', 0, 4)), (('img', 3, 4), ('kernel', 4, 3)), (('img', 4, 4), ('kernel', 3, 3)), (('img', 5, 4), ('kernel', 2, 3)), (('img', 6, 4), ('kernel', 1, 3)), (('img', 7, 4), ('kernel', 0, 3)), (('img', 3, 5), ('kernel', 4, 2)), (('img', 4, 5), ('kernel', 3, 2)), (('img', 5, 5), ('kernel', 2, 2)), (('img', 6, 5), ('kernel', 1, 2)), (('img', 7, 5), ('kernel', 0, 2)), (('img', 3, 6), ('kernel', 4, 1)), (('img', 4, 6), ('kernel', 3, 1)), (('img', 5, 6), ('kernel', 2, 1)), (('img', 6, 6), ('kernel', 1, 1)), (('img', 7, 6), ('kernel', 0, 1)), (('img', 3, 7), ('kernel', 4, 0)), (('img', 4, 7), ('kernel', 3, 0)), (('img', 5, 7), ('kernel', 2, 0)), (('img', 6, 7), ('kernel', 1, 0)), (('img', 7, 7), ('kernel', 0, 0))]\n",
      "\n",
      "\n",
      "Indices pairs of correlation operation: \n",
      "\n",
      " [(('img', 3, 3), ('kernel', 0, 0)), (('img', 4, 3), ('kernel', 1, 0)), (('img', 5, 3), ('kernel', 2, 0)), (('img', 6, 3), ('kernel', 3, 0)), (('img', 7, 3), ('kernel', 4, 0)), (('img', 3, 4), ('kernel', 0, 1)), (('img', 4, 4), ('kernel', 1, 1)), (('img', 5, 4), ('kernel', 2, 1)), (('img', 6, 4), ('kernel', 3, 1)), (('img', 7, 4), ('kernel', 4, 1)), (('img', 3, 5), ('kernel', 0, 2)), (('img', 4, 5), ('kernel', 1, 2)), (('img', 5, 5), ('kernel', 2, 2)), (('img', 6, 5), ('kernel', 3, 2)), (('img', 7, 5), ('kernel', 4, 2)), (('img', 3, 6), ('kernel', 0, 3)), (('img', 4, 6), ('kernel', 1, 3)), (('img', 5, 6), ('kernel', 2, 3)), (('img', 6, 6), ('kernel', 3, 3)), (('img', 7, 6), ('kernel', 4, 3)), (('img', 3, 7), ('kernel', 0, 4)), (('img', 4, 7), ('kernel', 1, 4)), (('img', 5, 7), ('kernel', 2, 4)), (('img', 6, 7), ('kernel', 3, 4)), (('img', 7, 7), ('kernel', 4, 4))]\n"
     ]
    }
   ],
   "source": [
    "def main():\n",
    "    idx=(5, 5)\n",
    "    convolution_index_tuples=findOperationIndexPairs(idx, 5, False)\n",
    "    correlation_index_tuples=findOperationIndexPairs(idx, 5, True)\n",
    "    print()\n",
    "    print(\"Indices pairs of convolution operation: \\n\\n\", convolution_index_tuples)\n",
    "    print(\"\\n\\nIndices pairs of correlation operation: \\n\\n\", correlation_index_tuples)\n",
    "    \n",
    "if __name__ == \"__main__\":\n",
    "    main()"
   ]
  }
 ],
 "metadata": {
  "kernelspec": {
   "display_name": "Python 3",
   "language": "python",
   "name": "python3"
  },
  "language_info": {
   "codemirror_mode": {
    "name": "ipython",
    "version": 3
   },
   "file_extension": ".py",
   "mimetype": "text/x-python",
   "name": "python",
   "nbconvert_exporter": "python",
   "pygments_lexer": "ipython3",
   "version": "3.7.7"
  }
 },
 "nbformat": 4,
 "nbformat_minor": 4
}
